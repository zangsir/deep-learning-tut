{
 "cells": [
  {
   "cell_type": "markdown",
   "metadata": {},
   "source": [
    "# Learning categorical and numeric features with Functional API\n",
    "\n",
    "a series on getting deeper into DNN implementations in keras.\n",
    "\n",
    "this week I am focusing on building DNN for data that has both categorical and numeric features.\n",
    "\n",
    "I started with banking_prediction.ipynb. The banking data is stored on S3, and I am reading from S3 directly on the EC2 instance (or local machine for that matter).\n",
    "\n",
    "Then I found a better tutorial so I am running through it in this notebook.\n",
    "\n",
    "Read paper: https://arxiv.org/pdf/1604.06737.pdf\n",
    "\n",
    "Blog post:\n",
    "https://medium.com/@satnalikamayank12/on-learning-embeddings-for-categorical-data-using-keras-165ff2773fc9\n",
    "\n",
    "TASK in this notebook:\n",
    "THis is a regression problem.\n",
    "\n",
    "the original form of the blogpost and the github code don't work any more. It used deprecated API of Merge Sequential models. Instead, we need to modifiy it to use functional API, concatenating categorical and numeric inputs, we need to specify all the inputs and outputs and finally put it together. This is a nice lesson that shows the complexity of the pipeline of building a deep learning model from data encoding and transformation all the way to the final model training. This is particularly challenging because we using Functional API which needs you to be clear headed on how each input and output and each layer are strung together. "
   ]
  },
  {
   "cell_type": "code",
   "execution_count": 6,
   "metadata": {},
   "outputs": [],
   "source": [
    "import pandas as pd \n",
    "df = pd.read_csv(\"train.csv\")"
   ]
  },
  {
   "cell_type": "code",
   "execution_count": null,
   "metadata": {},
   "outputs": [],
   "source": []
  },
  {
   "cell_type": "code",
   "execution_count": 7,
   "metadata": {},
   "outputs": [
    {
     "data": {
      "text/html": [
       "<div>\n",
       "<style scoped>\n",
       "    .dataframe tbody tr th:only-of-type {\n",
       "        vertical-align: middle;\n",
       "    }\n",
       "\n",
       "    .dataframe tbody tr th {\n",
       "        vertical-align: top;\n",
       "    }\n",
       "\n",
       "    .dataframe thead th {\n",
       "        text-align: right;\n",
       "    }\n",
       "</style>\n",
       "<table border=\"1\" class=\"dataframe\">\n",
       "  <thead>\n",
       "    <tr style=\"text-align: right;\">\n",
       "      <th></th>\n",
       "      <th>datetime</th>\n",
       "      <th>season</th>\n",
       "      <th>holiday</th>\n",
       "      <th>workingday</th>\n",
       "      <th>weather</th>\n",
       "      <th>temp</th>\n",
       "      <th>atemp</th>\n",
       "      <th>humidity</th>\n",
       "      <th>windspeed</th>\n",
       "      <th>casual</th>\n",
       "      <th>registered</th>\n",
       "      <th>count</th>\n",
       "    </tr>\n",
       "  </thead>\n",
       "  <tbody>\n",
       "    <tr>\n",
       "      <th>0</th>\n",
       "      <td>2011-01-01 00:00:00</td>\n",
       "      <td>1</td>\n",
       "      <td>0</td>\n",
       "      <td>0</td>\n",
       "      <td>1</td>\n",
       "      <td>9.84</td>\n",
       "      <td>14.395</td>\n",
       "      <td>81</td>\n",
       "      <td>0.0</td>\n",
       "      <td>3</td>\n",
       "      <td>13</td>\n",
       "      <td>16</td>\n",
       "    </tr>\n",
       "    <tr>\n",
       "      <th>1</th>\n",
       "      <td>2011-01-01 01:00:00</td>\n",
       "      <td>1</td>\n",
       "      <td>0</td>\n",
       "      <td>0</td>\n",
       "      <td>1</td>\n",
       "      <td>9.02</td>\n",
       "      <td>13.635</td>\n",
       "      <td>80</td>\n",
       "      <td>0.0</td>\n",
       "      <td>8</td>\n",
       "      <td>32</td>\n",
       "      <td>40</td>\n",
       "    </tr>\n",
       "    <tr>\n",
       "      <th>2</th>\n",
       "      <td>2011-01-01 02:00:00</td>\n",
       "      <td>1</td>\n",
       "      <td>0</td>\n",
       "      <td>0</td>\n",
       "      <td>1</td>\n",
       "      <td>9.02</td>\n",
       "      <td>13.635</td>\n",
       "      <td>80</td>\n",
       "      <td>0.0</td>\n",
       "      <td>5</td>\n",
       "      <td>27</td>\n",
       "      <td>32</td>\n",
       "    </tr>\n",
       "    <tr>\n",
       "      <th>3</th>\n",
       "      <td>2011-01-01 03:00:00</td>\n",
       "      <td>1</td>\n",
       "      <td>0</td>\n",
       "      <td>0</td>\n",
       "      <td>1</td>\n",
       "      <td>9.84</td>\n",
       "      <td>14.395</td>\n",
       "      <td>75</td>\n",
       "      <td>0.0</td>\n",
       "      <td>3</td>\n",
       "      <td>10</td>\n",
       "      <td>13</td>\n",
       "    </tr>\n",
       "    <tr>\n",
       "      <th>4</th>\n",
       "      <td>2011-01-01 04:00:00</td>\n",
       "      <td>1</td>\n",
       "      <td>0</td>\n",
       "      <td>0</td>\n",
       "      <td>1</td>\n",
       "      <td>9.84</td>\n",
       "      <td>14.395</td>\n",
       "      <td>75</td>\n",
       "      <td>0.0</td>\n",
       "      <td>0</td>\n",
       "      <td>1</td>\n",
       "      <td>1</td>\n",
       "    </tr>\n",
       "  </tbody>\n",
       "</table>\n",
       "</div>"
      ],
      "text/plain": [
       "              datetime  season  holiday  workingday  weather  temp   atemp  \\\n",
       "0  2011-01-01 00:00:00       1        0           0        1  9.84  14.395   \n",
       "1  2011-01-01 01:00:00       1        0           0        1  9.02  13.635   \n",
       "2  2011-01-01 02:00:00       1        0           0        1  9.02  13.635   \n",
       "3  2011-01-01 03:00:00       1        0           0        1  9.84  14.395   \n",
       "4  2011-01-01 04:00:00       1        0           0        1  9.84  14.395   \n",
       "\n",
       "   humidity  windspeed  casual  registered  count  \n",
       "0        81        0.0       3          13     16  \n",
       "1        80        0.0       8          32     40  \n",
       "2        80        0.0       5          27     32  \n",
       "3        75        0.0       3          10     13  \n",
       "4        75        0.0       0           1      1  "
      ]
     },
     "execution_count": 7,
     "metadata": {},
     "output_type": "execute_result"
    }
   ],
   "source": [
    "df.head()"
   ]
  },
  {
   "cell_type": "code",
   "execution_count": 8,
   "metadata": {},
   "outputs": [],
   "source": [
    "df = df.sample(frac=1) "
   ]
  },
  {
   "cell_type": "code",
   "execution_count": 9,
   "metadata": {},
   "outputs": [
    {
     "data": {
      "text/plain": [
       "4    2734\n",
       "3    2733\n",
       "2    2733\n",
       "1    2686\n",
       "Name: season, dtype: int64"
      ]
     },
     "execution_count": 9,
     "metadata": {},
     "output_type": "execute_result"
    }
   ],
   "source": [
    "df['season'].value_counts()"
   ]
  },
  {
   "cell_type": "code",
   "execution_count": 10,
   "metadata": {},
   "outputs": [
    {
     "data": {
      "text/plain": [
       "1    7412\n",
       "0    3474\n",
       "Name: workingday, dtype: int64"
      ]
     },
     "execution_count": 10,
     "metadata": {},
     "output_type": "execute_result"
    }
   ],
   "source": [
    "df['workingday'].value_counts()"
   ]
  },
  {
   "cell_type": "code",
   "execution_count": 11,
   "metadata": {},
   "outputs": [
    {
     "data": {
      "text/plain": [
       "0    10575\n",
       "1      311\n",
       "Name: holiday, dtype: int64"
      ]
     },
     "execution_count": 11,
     "metadata": {},
     "output_type": "execute_result"
    }
   ],
   "source": [
    "df['holiday'].value_counts()"
   ]
  },
  {
   "cell_type": "code",
   "execution_count": 12,
   "metadata": {},
   "outputs": [
    {
     "data": {
      "text/plain": [
       "1    7192\n",
       "2    2834\n",
       "3     859\n",
       "4       1\n",
       "Name: weather, dtype: int64"
      ]
     },
     "execution_count": 12,
     "metadata": {},
     "output_type": "execute_result"
    }
   ],
   "source": [
    "df['weather'].value_counts()"
   ]
  },
  {
   "cell_type": "code",
   "execution_count": 13,
   "metadata": {
    "scrolled": true
   },
   "outputs": [
    {
     "data": {
      "text/html": [
       "<div>\n",
       "<style scoped>\n",
       "    .dataframe tbody tr th:only-of-type {\n",
       "        vertical-align: middle;\n",
       "    }\n",
       "\n",
       "    .dataframe tbody tr th {\n",
       "        vertical-align: top;\n",
       "    }\n",
       "\n",
       "    .dataframe thead th {\n",
       "        text-align: right;\n",
       "    }\n",
       "</style>\n",
       "<table border=\"1\" class=\"dataframe\">\n",
       "  <thead>\n",
       "    <tr style=\"text-align: right;\">\n",
       "      <th></th>\n",
       "      <th>datetime</th>\n",
       "      <th>season</th>\n",
       "      <th>holiday</th>\n",
       "      <th>workingday</th>\n",
       "      <th>weather</th>\n",
       "      <th>temp</th>\n",
       "      <th>atemp</th>\n",
       "      <th>humidity</th>\n",
       "      <th>windspeed</th>\n",
       "      <th>casual</th>\n",
       "      <th>registered</th>\n",
       "      <th>count</th>\n",
       "    </tr>\n",
       "  </thead>\n",
       "  <tbody>\n",
       "    <tr>\n",
       "      <th>10292</th>\n",
       "      <td>2012-11-14 06:00:00</td>\n",
       "      <td>4</td>\n",
       "      <td>0</td>\n",
       "      <td>1</td>\n",
       "      <td>1</td>\n",
       "      <td>9.84</td>\n",
       "      <td>11.365</td>\n",
       "      <td>65</td>\n",
       "      <td>12.9980</td>\n",
       "      <td>4</td>\n",
       "      <td>142</td>\n",
       "      <td>146</td>\n",
       "    </tr>\n",
       "    <tr>\n",
       "      <th>4930</th>\n",
       "      <td>2011-11-18 12:00:00</td>\n",
       "      <td>4</td>\n",
       "      <td>0</td>\n",
       "      <td>1</td>\n",
       "      <td>1</td>\n",
       "      <td>13.12</td>\n",
       "      <td>16.665</td>\n",
       "      <td>33</td>\n",
       "      <td>0.0000</td>\n",
       "      <td>22</td>\n",
       "      <td>143</td>\n",
       "      <td>165</td>\n",
       "    </tr>\n",
       "    <tr>\n",
       "      <th>7554</th>\n",
       "      <td>2012-05-14 03:00:00</td>\n",
       "      <td>2</td>\n",
       "      <td>0</td>\n",
       "      <td>1</td>\n",
       "      <td>2</td>\n",
       "      <td>23.78</td>\n",
       "      <td>27.275</td>\n",
       "      <td>68</td>\n",
       "      <td>22.0028</td>\n",
       "      <td>0</td>\n",
       "      <td>2</td>\n",
       "      <td>2</td>\n",
       "    </tr>\n",
       "  </tbody>\n",
       "</table>\n",
       "</div>"
      ],
      "text/plain": [
       "                  datetime  season  holiday  workingday  weather   temp  \\\n",
       "10292  2012-11-14 06:00:00       4        0           1        1   9.84   \n",
       "4930   2011-11-18 12:00:00       4        0           1        1  13.12   \n",
       "7554   2012-05-14 03:00:00       2        0           1        2  23.78   \n",
       "\n",
       "        atemp  humidity  windspeed  casual  registered  count  \n",
       "10292  11.365        65    12.9980       4         142    146  \n",
       "4930   16.665        33     0.0000      22         143    165  \n",
       "7554   27.275        68    22.0028       0           2      2  "
      ]
     },
     "execution_count": 13,
     "metadata": {},
     "output_type": "execute_result"
    }
   ],
   "source": [
    "df[:3]"
   ]
  },
  {
   "cell_type": "code",
   "execution_count": 14,
   "metadata": {},
   "outputs": [],
   "source": [
    "import datetime"
   ]
  },
  {
   "cell_type": "code",
   "execution_count": 15,
   "metadata": {},
   "outputs": [],
   "source": [
    "df['date']  = df.datetime.apply(lambda x: x.split()[0])\n",
    "df['hour'] = df.datetime.apply(lambda x: x.split()[1].split(':')[0])\n",
    "df['weekday'] = df.date.apply(lambda dateString : datetime.datetime.strptime(dateString, '%Y-%m-%d').weekday())\n",
    "df['month'] = df.date.apply(lambda dateString : datetime.datetime.strptime(dateString, '%Y-%m-%d').month)\n",
    "df['month_day'] = df.date.apply(lambda dateString : datetime.datetime.strptime(dateString, '%Y-%m-%d').day)"
   ]
  },
  {
   "cell_type": "code",
   "execution_count": 16,
   "metadata": {},
   "outputs": [],
   "source": [
    "df = df.drop('datetime',axis=1)\n",
    "df = df.drop('casual',axis=1)\n",
    "df = df.drop('registered',axis=1)\n",
    "df = df.drop('date',axis=1)\n",
    "preds  = df['count']\n",
    "df = df.drop('count',axis=1)"
   ]
  },
  {
   "cell_type": "code",
   "execution_count": 17,
   "metadata": {},
   "outputs": [
    {
     "data": {
      "text/plain": [
       "count    10886.000000\n",
       "mean       191.574132\n",
       "std        181.144454\n",
       "min          1.000000\n",
       "25%         42.000000\n",
       "50%        145.000000\n",
       "75%        284.000000\n",
       "max        977.000000\n",
       "Name: count, dtype: float64"
      ]
     },
     "execution_count": 17,
     "metadata": {},
     "output_type": "execute_result"
    }
   ],
   "source": [
    "preds.describe( )"
   ]
  },
  {
   "cell_type": "code",
   "execution_count": 18,
   "metadata": {},
   "outputs": [
    {
     "data": {
      "text/html": [
       "<div>\n",
       "<style scoped>\n",
       "    .dataframe tbody tr th:only-of-type {\n",
       "        vertical-align: middle;\n",
       "    }\n",
       "\n",
       "    .dataframe tbody tr th {\n",
       "        vertical-align: top;\n",
       "    }\n",
       "\n",
       "    .dataframe thead th {\n",
       "        text-align: right;\n",
       "    }\n",
       "</style>\n",
       "<table border=\"1\" class=\"dataframe\">\n",
       "  <thead>\n",
       "    <tr style=\"text-align: right;\">\n",
       "      <th></th>\n",
       "      <th>season</th>\n",
       "      <th>holiday</th>\n",
       "      <th>workingday</th>\n",
       "      <th>weather</th>\n",
       "      <th>temp</th>\n",
       "      <th>atemp</th>\n",
       "      <th>humidity</th>\n",
       "      <th>windspeed</th>\n",
       "      <th>hour</th>\n",
       "      <th>weekday</th>\n",
       "      <th>month</th>\n",
       "      <th>month_day</th>\n",
       "    </tr>\n",
       "  </thead>\n",
       "  <tbody>\n",
       "    <tr>\n",
       "      <th>10292</th>\n",
       "      <td>4</td>\n",
       "      <td>0</td>\n",
       "      <td>1</td>\n",
       "      <td>1</td>\n",
       "      <td>9.84</td>\n",
       "      <td>11.365</td>\n",
       "      <td>65</td>\n",
       "      <td>12.9980</td>\n",
       "      <td>06</td>\n",
       "      <td>2</td>\n",
       "      <td>11</td>\n",
       "      <td>14</td>\n",
       "    </tr>\n",
       "    <tr>\n",
       "      <th>4930</th>\n",
       "      <td>4</td>\n",
       "      <td>0</td>\n",
       "      <td>1</td>\n",
       "      <td>1</td>\n",
       "      <td>13.12</td>\n",
       "      <td>16.665</td>\n",
       "      <td>33</td>\n",
       "      <td>0.0000</td>\n",
       "      <td>12</td>\n",
       "      <td>4</td>\n",
       "      <td>11</td>\n",
       "      <td>18</td>\n",
       "    </tr>\n",
       "    <tr>\n",
       "      <th>7554</th>\n",
       "      <td>2</td>\n",
       "      <td>0</td>\n",
       "      <td>1</td>\n",
       "      <td>2</td>\n",
       "      <td>23.78</td>\n",
       "      <td>27.275</td>\n",
       "      <td>68</td>\n",
       "      <td>22.0028</td>\n",
       "      <td>03</td>\n",
       "      <td>0</td>\n",
       "      <td>5</td>\n",
       "      <td>14</td>\n",
       "    </tr>\n",
       "  </tbody>\n",
       "</table>\n",
       "</div>"
      ],
      "text/plain": [
       "       season  holiday  workingday  weather   temp   atemp  humidity  \\\n",
       "10292       4        0           1        1   9.84  11.365        65   \n",
       "4930        4        0           1        1  13.12  16.665        33   \n",
       "7554        2        0           1        2  23.78  27.275        68   \n",
       "\n",
       "       windspeed hour  weekday  month  month_day  \n",
       "10292    12.9980   06        2     11         14  \n",
       "4930      0.0000   12        4     11         18  \n",
       "7554     22.0028   03        0      5         14  "
      ]
     },
     "execution_count": 18,
     "metadata": {},
     "output_type": "execute_result"
    }
   ],
   "source": [
    "df[:3]"
   ]
  },
  {
   "cell_type": "code",
   "execution_count": 19,
   "metadata": {},
   "outputs": [],
   "source": [
    "categorical_vars = [\"hour\", \"month\", \"weekday\",\"season\",\"weather\",\"month_day\"]"
   ]
  },
  {
   "cell_type": "code",
   "execution_count": 20,
   "metadata": {},
   "outputs": [],
   "source": [
    "all_cols = df.columns"
   ]
  },
  {
   "cell_type": "code",
   "execution_count": 21,
   "metadata": {},
   "outputs": [
    {
     "data": {
      "text/plain": [
       "Index(['season', 'holiday', 'workingday', 'weather', 'temp', 'atemp',\n",
       "       'humidity', 'windspeed', 'hour', 'weekday', 'month', 'month_day'],\n",
       "      dtype='object')"
      ]
     },
     "execution_count": 21,
     "metadata": {},
     "output_type": "execute_result"
    }
   ],
   "source": [
    "all_cols"
   ]
  },
  {
   "cell_type": "code",
   "execution_count": 22,
   "metadata": {},
   "outputs": [],
   "source": [
    "other_cols = [i for i in all_cols if i not in categorical_vars ]"
   ]
  },
  {
   "cell_type": "code",
   "execution_count": 24,
   "metadata": {},
   "outputs": [
    {
     "data": {
      "text/plain": [
       "['holiday', 'workingday', 'temp', 'atemp', 'humidity', 'windspeed']"
      ]
     },
     "execution_count": 24,
     "metadata": {},
     "output_type": "execute_result"
    }
   ],
   "source": [
    "other_cols"
   ]
  },
  {
   "cell_type": "code",
   "execution_count": 25,
   "metadata": {},
   "outputs": [],
   "source": [
    "import numpy as np \n",
    "def preproc(X_train ) : \n",
    "\n",
    "    input_list_train = []\n",
    "    for c in categorical_vars :\n",
    "        \n",
    "        jjj = np.asarray(X_train[c].tolist())\n",
    "        jjj = pd.factorize( jjj )[0]\n",
    "        input_list_train.append( np.asarray(jjj)  )\n",
    "        \"\"\"\n",
    "        raw_vals = np.unique(X_train[c])\n",
    "        val_map = {}\n",
    "        for i in range(len(raw_vals)):\n",
    "            val_map[raw_vals[i]] = i       \n",
    "        input_list_train.append(X_train[c].map(val_map).values)\n",
    "        \"\"\"\n",
    "    #the rest of the columns\n",
    "    input_list_train.append(X_train[other_cols].values)\n",
    "    return input_list_train \n",
    "df_tr = preproc( df )"
   ]
  },
  {
   "cell_type": "code",
   "execution_count": 32,
   "metadata": {},
   "outputs": [
    {
     "data": {
      "text/plain": [
       "7"
      ]
     },
     "execution_count": 32,
     "metadata": {},
     "output_type": "execute_result"
    }
   ],
   "source": [
    "len(df_tr)"
   ]
  },
  {
   "cell_type": "code",
   "execution_count": 41,
   "metadata": {},
   "outputs": [
    {
     "data": {
      "text/plain": [
       "(10886,)"
      ]
     },
     "execution_count": 41,
     "metadata": {},
     "output_type": "execute_result"
    }
   ],
   "source": [
    "np.array(preds).shape"
   ]
  },
  {
   "cell_type": "code",
   "execution_count": null,
   "metadata": {},
   "outputs": [],
   "source": []
  },
  {
   "cell_type": "code",
   "execution_count": 35,
   "metadata": {},
   "outputs": [
    {
     "name": "stdout",
     "output_type": "stream",
     "text": [
      "(10886,)\n",
      "(10886, 6)\n"
     ]
    }
   ],
   "source": [
    "print(df_tr[0].shape)\n",
    "print(df_tr[-1].shape)"
   ]
  },
  {
   "cell_type": "code",
   "execution_count": 48,
   "metadata": {},
   "outputs": [
    {
     "data": {
      "text/plain": [
       "(10886,)"
      ]
     },
     "execution_count": 48,
     "metadata": {},
     "output_type": "execute_result"
    }
   ],
   "source": [
    "target.shape"
   ]
  },
  {
   "cell_type": "markdown",
   "metadata": {},
   "source": [
    "# model specification\n",
    "\n",
    "This section builds the model.\n",
    "\n",
    "Now we have transformed the data into the df_tr matrix. it looks like this:"
   ]
  },
  {
   "cell_type": "code",
   "execution_count": 33,
   "metadata": {},
   "outputs": [
    {
     "data": {
      "text/plain": [
       "[array([0, 1, 2, ..., 8, 9, 6]),\n",
       " array([0, 0, 1, ..., 4, 4, 1]),\n",
       " array([0, 1, 2, ..., 0, 0, 6]),\n",
       " array([0, 0, 1, ..., 3, 3, 1]),\n",
       " array([0, 0, 1, ..., 0, 0, 1]),\n",
       " array([ 0,  1,  0, ..., 11, 11, 16]),\n",
       " array([[ 0.    ,  1.    ,  9.84  , 11.365 , 65.    , 12.998 ],\n",
       "        [ 0.    ,  1.    , 13.12  , 16.665 , 33.    ,  0.    ],\n",
       "        [ 0.    ,  1.    , 23.78  , 27.275 , 68.    , 22.0028],\n",
       "        ...,\n",
       "        [ 0.    ,  1.    , 11.48  , 12.88  , 61.    , 19.9995],\n",
       "        [ 0.    ,  1.    , 22.14  , 25.76  , 42.    , 23.9994],\n",
       "        [ 0.    ,  1.    , 22.14  , 25.76  , 68.    , 15.0013]])]"
      ]
     },
     "execution_count": 33,
     "metadata": {},
     "output_type": "execute_result"
    }
   ],
   "source": [
    "df_tr # the numeric features are lumped together in one list element\n"
   ]
  },
  {
   "cell_type": "markdown",
   "metadata": {},
   "source": [
    "## important point\n",
    "\n",
    "Note that the following section of model compilation doesn't depend on the actual input data yet. It is purely a placeholder kind of thing. All it needs is the dimensions expect of the input data, for each categorical and numeric feature. In contrast, later in model.fit(), we will need to worry about the actual input data shape matching these expectations specified in the model.compile(). That's why we need to prepare the data and transform them into these expected shapes before the model.fit.\n",
    "\n",
    "for example, let's take the first categorical attribute, ```df_tr[0]```, this line translate to expected shape of 24 dimensions for each instance, since there are 24 unique values for this variable in this data: \n",
    "\n",
    "```    inp_cat_data = keras.layers.Input(shape=(no_of_unique_cat,)) \n",
    "```\n",
    "\n",
    "Therefore, we can pass in 1d data as is ```[2,5,1,6...]``` but we need to make it one hot into the shape of (None,24) so to speak. That section is after the model.compile() and before model.fit().\n",
    "\n",
    "It may not be intuitive at first but note that the model compile is all about placeholders and no actual data is passed in."
   ]
  },
  {
   "cell_type": "code",
   "execution_count": null,
   "metadata": {},
   "outputs": [],
   "source": []
  },
  {
   "cell_type": "code",
   "execution_count": 84,
   "metadata": {},
   "outputs": [],
   "source": [
    "from keras.layers import *\n",
    "from keras.models import *\n",
    "import tensorflow as tf\n",
    "import keras\n",
    "models = []\n",
    "\n",
    "inputs = []\n",
    "#categorical_vars = [\"hour\", \"month\", \"weekday\",\"season\",\"weather\",\"month_day\"]\n",
    "for categoical_var in categorical_vars :\n",
    "    #model = Sequential()\n",
    "    #model.reset_states( )\n",
    "    no_of_unique_cat  = df[categoical_var].nunique()\n",
    "    embedding_size = min(np.ceil((no_of_unique_cat)/2), 50 )\n",
    "    embedding_size = int(embedding_size)\n",
    "    #model.add(  Embedding( no_of_unique_cat+1, embedding_size, input_length = 1 ) )\n",
    "    #model.add(Reshape(target_shape=(embedding_size,)))\n",
    "    #models.append( model )\n",
    "    inp_cat_data = keras.layers.Input(shape=(no_of_unique_cat,)) \n",
    "    inputs.append(inp_cat_data)\n",
    "    emb = keras.layers.Embedding(input_dim=no_of_unique_cat, output_dim=embedding_size)(inp_cat_data)  #emb size(None, 4, 2)\n",
    "    flatten = keras.layers.Flatten()(emb) # after flatten => (None, 8)\n",
    "    models.append(flatten)\n",
    "    \n",
    "\n",
    "num_data = df_tr[-1]\n",
    "inp_num_data = keras.layers.Input(shape=(num_data.shape[1],)) #(None, 3) #doc on input layer: https://keras.io/layers/core/\n",
    "models.append(inp_num_data)\n",
    "inputs.append(inp_num_data)\n",
    "#model_rest = Sequential()\n",
    "#model_rest.add(Dense(  64 , input_dim = 6 ))\n",
    "#model_rest.reset_states( )\n",
    "#models.append(model_rest)\n",
    "# WHAT WE NEED TO DO IS TO WRITE IT WITH THE FIRST TUTORIAL'S SYNTAX\\\\\n",
    "# using functional API to concatenate is the new way of Merge \n",
    "# https://stackoverflow.com/questions/46397258/how-to-merge-sequential-models-in-keras-2-0\n",
    "conc = keras.layers.Concatenate()(models)\n",
    "\n",
    "#model = keras.Model(inputs=[inp_cat_data, inp_num_data], outputs=out)\n",
    "dense1 = keras.layers.Dense(512, activation=tf.nn.relu, )(conc) \n",
    "dense2 = keras.layers.Dense(64, activation=tf.nn.relu, )(dense1) \n",
    "\n",
    "#doc on dense layer: https://keras.io/layers/core/\n",
    "\n",
    "# Creating output layer - this is regression so just one unit with no activation output\n",
    "out = keras.layers.Dense(1)(dense2)\n",
    "\n",
    "# functional API: only string together the model now with input and output\n",
    "# inputs is a list \n",
    "# https://keras.io/models/model/ \n",
    "# In the case of multi-input or multi-output models, you can use lists as well:\n",
    "# model = Model(inputs=[a1, a2], outputs=[b1, b2, b3])\n",
    "\n",
    "model = keras.Model(inputs=inputs, outputs=out)\n",
    "\n",
    "# for continuous targets\n",
    "#model.compile(optimizer=tf.train.AdamOptimizer(0.01),\n",
    "              #loss=keras.losses.mean_squared_error,\n",
    "             # metrics=[keras.metrics.mean_squared_error])\n",
    "#opt = keras.optimizers.RMSprop(learning_rate=0.0001, decay=1e-6)\n",
    "\n",
    "#model.compile(loss='categorical_crossentropy',\n",
    "              #optimizer=opt,\n",
    "              #metrics=['accuracy'])\n",
    "\n",
    "\n",
    "\n",
    "\n",
    "\n",
    "#full_model = Sequential()\n",
    "#full_model.add(Merge(models, mode='concat'))\n",
    "\n",
    "#full_model.add(Dense(512))\n",
    "#full_model.add(Activation('sigmoid'))\n",
    "#full_model.add(Dropout(0.2))\n",
    "\n",
    "#full_model.add(Dense(32))\n",
    "#full_model.add(Activation('sigmoid'))\n",
    "#full_model.add(Dropout(0.2))\n",
    "\n",
    "#full_model.add(Dense(1))\n",
    "\n",
    "model.compile(loss='mean_squared_error', optimizer='Adam',metrics=['mse','mape'])  "
   ]
  },
  {
   "cell_type": "code",
   "execution_count": 85,
   "metadata": {},
   "outputs": [
    {
     "name": "stdout",
     "output_type": "stream",
     "text": [
      "Model: \"model_2\"\n",
      "__________________________________________________________________________________________________\n",
      "Layer (type)                    Output Shape         Param #     Connected to                     \n",
      "==================================================================================================\n",
      "input_43 (InputLayer)           (None, 24)           0                                            \n",
      "__________________________________________________________________________________________________\n",
      "input_44 (InputLayer)           (None, 12)           0                                            \n",
      "__________________________________________________________________________________________________\n",
      "input_45 (InputLayer)           (None, 7)            0                                            \n",
      "__________________________________________________________________________________________________\n",
      "input_46 (InputLayer)           (None, 4)            0                                            \n",
      "__________________________________________________________________________________________________\n",
      "input_47 (InputLayer)           (None, 4)            0                                            \n",
      "__________________________________________________________________________________________________\n",
      "input_48 (InputLayer)           (None, 19)           0                                            \n",
      "__________________________________________________________________________________________________\n",
      "embedding_55 (Embedding)        (None, 24, 12)       288         input_43[0][0]                   \n",
      "__________________________________________________________________________________________________\n",
      "embedding_56 (Embedding)        (None, 12, 6)        72          input_44[0][0]                   \n",
      "__________________________________________________________________________________________________\n",
      "embedding_57 (Embedding)        (None, 7, 4)         28          input_45[0][0]                   \n",
      "__________________________________________________________________________________________________\n",
      "embedding_58 (Embedding)        (None, 4, 2)         8           input_46[0][0]                   \n",
      "__________________________________________________________________________________________________\n",
      "embedding_59 (Embedding)        (None, 4, 2)         8           input_47[0][0]                   \n",
      "__________________________________________________________________________________________________\n",
      "embedding_60 (Embedding)        (None, 19, 10)       190         input_48[0][0]                   \n",
      "__________________________________________________________________________________________________\n",
      "flatten_37 (Flatten)            (None, 288)          0           embedding_55[0][0]               \n",
      "__________________________________________________________________________________________________\n",
      "flatten_38 (Flatten)            (None, 72)           0           embedding_56[0][0]               \n",
      "__________________________________________________________________________________________________\n",
      "flatten_39 (Flatten)            (None, 28)           0           embedding_57[0][0]               \n",
      "__________________________________________________________________________________________________\n",
      "flatten_40 (Flatten)            (None, 8)            0           embedding_58[0][0]               \n",
      "__________________________________________________________________________________________________\n",
      "flatten_41 (Flatten)            (None, 8)            0           embedding_59[0][0]               \n",
      "__________________________________________________________________________________________________\n",
      "flatten_42 (Flatten)            (None, 190)          0           embedding_60[0][0]               \n",
      "__________________________________________________________________________________________________\n",
      "input_49 (InputLayer)           (None, 6)            0                                            \n",
      "__________________________________________________________________________________________________\n",
      "concatenate_7 (Concatenate)     (None, 600)          0           flatten_37[0][0]                 \n",
      "                                                                 flatten_38[0][0]                 \n",
      "                                                                 flatten_39[0][0]                 \n",
      "                                                                 flatten_40[0][0]                 \n",
      "                                                                 flatten_41[0][0]                 \n",
      "                                                                 flatten_42[0][0]                 \n",
      "                                                                 input_49[0][0]                   \n",
      "__________________________________________________________________________________________________\n",
      "dense_10 (Dense)                (None, 512)          307712      concatenate_7[0][0]              \n",
      "__________________________________________________________________________________________________\n",
      "dense_11 (Dense)                (None, 64)           32832       dense_10[0][0]                   \n",
      "__________________________________________________________________________________________________\n",
      "dense_12 (Dense)                (None, 1)            65          dense_11[0][0]                   \n",
      "==================================================================================================\n",
      "Total params: 341,203\n",
      "Trainable params: 341,203\n",
      "Non-trainable params: 0\n",
      "__________________________________________________________________________________________________\n"
     ]
    }
   ],
   "source": [
    "model.summary()"
   ]
  },
  {
   "cell_type": "markdown",
   "metadata": {},
   "source": [
    "## we need to one hot encode the input categorical data\n",
    "\n",
    "due to:     inp_cat_data = keras.layers.Input(shape=(no_of_unique_cat,)) \n",
    "\n",
    "we can't pass in one dimensional input data for categorical."
   ]
  },
  {
   "cell_type": "code",
   "execution_count": 70,
   "metadata": {},
   "outputs": [],
   "source": [
    "# one hot encode categorical variables\n",
    "import pandas as pd\n",
    "import numpy as np\n",
    "from sklearn.preprocessing import OneHotEncoder\n",
    "\n",
    "def encode_onehot(cat_input):\n",
    "    cat_input=np.expand_dims(cat_input, axis=1)\n",
    "    # creating instance of one-hot-encoder\n",
    "    enc = OneHotEncoder(handle_unknown='ignore')\n",
    "    # passing bridge-types-cat column (label encoded values of bridge_types)\n",
    "    enc_df = enc.fit_transform(cat_input).toarray()\n",
    "    return enc_df"
   ]
  },
  {
   "cell_type": "code",
   "execution_count": 81,
   "metadata": {},
   "outputs": [
    {
     "data": {
      "text/plain": [
       "(10886, 24)"
      ]
     },
     "execution_count": 81,
     "metadata": {},
     "output_type": "execute_result"
    }
   ],
   "source": [
    "cat_input = df_tr[0]\n",
    "res = encode_onehot(cat_input)\n",
    "res.shape"
   ]
  },
  {
   "cell_type": "code",
   "execution_count": 66,
   "metadata": {},
   "outputs": [
    {
     "data": {
      "text/plain": [
       "(10886, 24)"
      ]
     },
     "execution_count": 66,
     "metadata": {},
     "output_type": "execute_result"
    }
   ],
   "source": [
    "res.shape"
   ]
  },
  {
   "cell_type": "code",
   "execution_count": 78,
   "metadata": {},
   "outputs": [],
   "source": [
    "new_df_tr = []\n",
    "for d in df_tr[:-1]:\n",
    "    new_df_tr.append(encode_onehot(d))\n",
    "new_df_tr.append(df_tr[-1])\n",
    "assert(len(new_df_tr)==len(df_tr))"
   ]
  },
  {
   "cell_type": "code",
   "execution_count": 82,
   "metadata": {},
   "outputs": [
    {
     "data": {
      "text/plain": [
       "7"
      ]
     },
     "execution_count": 82,
     "metadata": {},
     "output_type": "execute_result"
    }
   ],
   "source": [
    "len(new_df_tr)"
   ]
  },
  {
   "cell_type": "markdown",
   "metadata": {},
   "source": [
    "## finally we train the model passing in the actual data"
   ]
  },
  {
   "cell_type": "code",
   "execution_count": 21,
   "metadata": {},
   "outputs": [
    {
     "name": "stderr",
     "output_type": "stream",
     "text": [
      "/home/ms/anaconda2/lib/python2.7/site-packages/ipykernel_launcher.py:3: UserWarning: The `Merge` layer is deprecated and will be removed after 08/2017. Use instead layers from `keras.layers.merge`, e.g. `add`, `concatenate`, etc.\n",
      "  This is separate from the ipykernel package so we can avoid doing imports until\n"
     ]
    }
   ],
   "source": [
    "#full_model = Sequential()\n",
    "#full_model.reset_states( )\n",
    "#full_model.add(Merge(models, mode='concat'))\n",
    "#full_model.add(Dense( 256 , activation='sigmoid'))\n",
    "#full_model.add(Dense(32, activation='sigmoid'))\n",
    "#full_model.add(Dropout(0.2))\n",
    "#full_model.add(Dense(1 ))\n",
    "\n",
    "#full_model.compile(loss='mean_squared_error', optimizer='Adam' ,metrics=['mse','mape'])"
   ]
  },
  {
   "cell_type": "code",
   "execution_count": 86,
   "metadata": {},
   "outputs": [
    {
     "name": "stdout",
     "output_type": "stream",
     "text": [
      "Epoch 1/50\n",
      "10886/10886 [==============================] - 3s 303us/step - loss: 21007.9078 - mse: 21007.9082 - mape: 343.2191\n",
      "Epoch 2/50\n",
      "10886/10886 [==============================] - 3s 266us/step - loss: 11248.3748 - mse: 11248.3721 - mape: 97.6956\n",
      "Epoch 3/50\n",
      "10886/10886 [==============================] - 3s 278us/step - loss: 10131.7102 - mse: 10131.7119 - mape: 87.4686\n",
      "Epoch 4/50\n",
      "10886/10886 [==============================] - 3s 268us/step - loss: 7714.8988 - mse: 7714.8999 - mape: 70.7681\n",
      "Epoch 5/50\n",
      "10886/10886 [==============================] - 3s 266us/step - loss: 6035.0729 - mse: 6035.0752 - mape: 61.6759\n",
      "Epoch 6/50\n",
      "10886/10886 [==============================] - 3s 271us/step - loss: 5467.8788 - mse: 5467.8779 - mape: 57.9146\n",
      "Epoch 7/50\n",
      "10886/10886 [==============================] - 3s 278us/step - loss: 5088.1161 - mse: 5088.1177 - mape: 53.4698\n",
      "Epoch 8/50\n",
      "10886/10886 [==============================] - 3s 272us/step - loss: 4926.8430 - mse: 4926.8428 - mape: 51.7281\n",
      "Epoch 9/50\n",
      "10886/10886 [==============================] - 3s 265us/step - loss: 4668.6149 - mse: 4668.6128 - mape: 48.0723\n",
      "Epoch 10/50\n",
      "10886/10886 [==============================] - 3s 299us/step - loss: 4535.9305 - mse: 4535.9307 - mape: 48.4499\n",
      "Epoch 11/50\n",
      "10886/10886 [==============================] - 3s 293us/step - loss: 4212.0950 - mse: 4212.0928 - mape: 48.2729\n",
      "Epoch 12/50\n",
      "10886/10886 [==============================] - 3s 301us/step - loss: 3967.6321 - mse: 3967.6318 - mape: 45.3246\n",
      "Epoch 13/50\n",
      "10886/10886 [==============================] - 3s 286us/step - loss: 3696.5852 - mse: 3696.5847 - mape: 46.7537\n",
      "Epoch 14/50\n",
      "10886/10886 [==============================] - 3s 282us/step - loss: 3325.1231 - mse: 3325.1240 - mape: 45.6055\n",
      "Epoch 15/50\n",
      "10886/10886 [==============================] - 3s 258us/step - loss: 3011.0521 - mse: 3011.0547 - mape: 46.3262\n",
      "Epoch 16/50\n",
      "10886/10886 [==============================] - 3s 270us/step - loss: 2695.0034 - mse: 2695.0049 - mape: 44.3498\n",
      "Epoch 17/50\n",
      "10886/10886 [==============================] - 3s 272us/step - loss: 2302.3900 - mse: 2302.3899 - mape: 42.2270\n",
      "Epoch 18/50\n",
      "10886/10886 [==============================] - 3s 267us/step - loss: 2138.1498 - mse: 2138.1499 - mape: 40.9632\n",
      "Epoch 19/50\n",
      "10886/10886 [==============================] - 3s 269us/step - loss: 1822.6649 - mse: 1822.6643 - mape: 38.8773\n",
      "Epoch 20/50\n",
      "10886/10886 [==============================] - 3s 277us/step - loss: 1607.4203 - mse: 1607.4200 - mape: 36.5205\n",
      "Epoch 21/50\n",
      "10886/10886 [==============================] - 3s 274us/step - loss: 1429.7268 - mse: 1429.7271 - mape: 35.2049\n",
      "Epoch 22/50\n",
      "10886/10886 [==============================] - 3s 268us/step - loss: 1383.9579 - mse: 1383.9590 - mape: 34.3579\n",
      "Epoch 23/50\n",
      "10886/10886 [==============================] - 3s 273us/step - loss: 1191.1304 - mse: 1191.1309 - mape: 32.8027\n",
      "Epoch 24/50\n",
      "10886/10886 [==============================] - 3s 268us/step - loss: 1141.5653 - mse: 1141.5656 - mape: 32.1147\n",
      "Epoch 25/50\n",
      "10886/10886 [==============================] - 3s 276us/step - loss: 1026.6339 - mse: 1026.6335 - mape: 31.6344\n",
      "Epoch 26/50\n",
      "10886/10886 [==============================] - 3s 271us/step - loss: 997.9646 - mse: 997.9639 - mape: 31.2933\n",
      "Epoch 27/50\n",
      "10886/10886 [==============================] - 3s 271us/step - loss: 932.8642 - mse: 932.8644 - mape: 29.9700\n",
      "Epoch 28/50\n",
      "10886/10886 [==============================] - 3s 277us/step - loss: 893.4336 - mse: 893.4332 - mape: 29.7885\n",
      "Epoch 29/50\n",
      "10886/10886 [==============================] - 3s 274us/step - loss: 829.3246 - mse: 829.3241 - mape: 28.9042\n",
      "Epoch 30/50\n",
      "10886/10886 [==============================] - 3s 273us/step - loss: 812.9917 - mse: 812.9913 - mape: 28.6512\n",
      "Epoch 31/50\n",
      "10886/10886 [==============================] - 3s 271us/step - loss: 785.2251 - mse: 785.2252 - mape: 28.6235\n",
      "Epoch 32/50\n",
      "10886/10886 [==============================] - 3s 266us/step - loss: 718.7111 - mse: 718.7112 - mape: 28.1891\n",
      "Epoch 33/50\n",
      "10886/10886 [==============================] - 3s 257us/step - loss: 734.9347 - mse: 734.9348 - mape: 28.6142\n",
      "Epoch 34/50\n",
      "10886/10886 [==============================] - 3s 265us/step - loss: 654.9131 - mse: 654.9128 - mape: 26.9111\n",
      "Epoch 35/50\n",
      "10886/10886 [==============================] - 3s 261us/step - loss: 630.4374 - mse: 630.4376 - mape: 27.4373\n",
      "Epoch 36/50\n",
      "10886/10886 [==============================] - 3s 261us/step - loss: 640.5348 - mse: 640.5348 - mape: 28.1722\n",
      "Epoch 37/50\n",
      "10886/10886 [==============================] - 3s 264us/step - loss: 575.2306 - mse: 575.2303 - mape: 26.5927\n",
      "Epoch 38/50\n",
      "10886/10886 [==============================] - 3s 272us/step - loss: 525.2380 - mse: 525.2385 - mape: 26.8456\n",
      "Epoch 39/50\n",
      "10886/10886 [==============================] - 3s 271us/step - loss: 546.9397 - mse: 546.9398 - mape: 26.8207\n",
      "Epoch 40/50\n",
      "10886/10886 [==============================] - 3s 268us/step - loss: 481.9951 - mse: 481.9951 - mape: 25.7308\n",
      "Epoch 41/50\n",
      "10886/10886 [==============================] - 3s 270us/step - loss: 534.5294 - mse: 534.5296 - mape: 26.2350\n",
      "Epoch 42/50\n",
      "10886/10886 [==============================] - 3s 265us/step - loss: 449.0336 - mse: 449.0336 - mape: 25.6203\n",
      "Epoch 43/50\n",
      "10886/10886 [==============================] - 3s 260us/step - loss: 482.4380 - mse: 482.4378 - mape: 26.3255\n",
      "Epoch 44/50\n",
      "10886/10886 [==============================] - 3s 268us/step - loss: 430.1238 - mse: 430.1236 - mape: 25.1787\n",
      "Epoch 45/50\n",
      "10886/10886 [==============================] - 3s 266us/step - loss: 417.1116 - mse: 417.1116 - mape: 25.5257\n",
      "Epoch 46/50\n",
      "10886/10886 [==============================] - 3s 265us/step - loss: 414.6240 - mse: 414.6243 - mape: 25.2573\n",
      "Epoch 47/50\n",
      "10886/10886 [==============================] - 3s 268us/step - loss: 391.4817 - mse: 391.4817 - mape: 24.9926\n",
      "Epoch 48/50\n",
      "10886/10886 [==============================] - 3s 266us/step - loss: 367.1344 - mse: 367.1343 - mape: 24.9437\n",
      "Epoch 49/50\n",
      "10886/10886 [==============================] - 3s 265us/step - loss: 358.5156 - mse: 358.5156 - mape: 24.3977\n",
      "Epoch 50/50\n",
      "10886/10886 [==============================] - 3s 276us/step - loss: 337.5894 - mse: 337.5893 - mape: 24.6574\n"
     ]
    }
   ],
   "source": [
    "history  =  model.fit( new_df_tr  , preds  , epochs =  50 , batch_size = 16, verbose= 1  )"
   ]
  },
  {
   "cell_type": "code",
   "execution_count": 87,
   "metadata": {},
   "outputs": [
    {
     "data": {
      "text/plain": [
       "{'batch_size': 16,\n",
       " 'do_validation': False,\n",
       " 'epochs': 50,\n",
       " 'metrics': ['loss', 'mse', 'mape'],\n",
       " 'samples': 10886,\n",
       " 'steps': None,\n",
       " 'verbose': 1}"
      ]
     },
     "execution_count": 87,
     "metadata": {},
     "output_type": "execute_result"
    }
   ],
   "source": [
    "history.params"
   ]
  },
  {
   "cell_type": "code",
   "execution_count": 89,
   "metadata": {},
   "outputs": [],
   "source": [
    "loss = history.history['loss']\n",
    "mse = history.history['mse']\n",
    "mape = history.history['mape']#['mean_absolute_percentage_error']"
   ]
  },
  {
   "cell_type": "code",
   "execution_count": 90,
   "metadata": {},
   "outputs": [
    {
     "data": {
      "text/plain": [
       "[<matplotlib.lines.Line2D at 0x141dbf710>]"
      ]
     },
     "execution_count": 90,
     "metadata": {},
     "output_type": "execute_result"
    },
    {
     "data": {
      "image/png": "[encoded data removed]",
      "text/plain": [
       "<Figure size 432x288 with 1 Axes>"
      ]
     },
     "metadata": {},
     "output_type": "display_data"
    }
   ],
   "source": [
    "import matplotlib.pyplot as plt\n",
    "%matplotlib inline\n",
    "plt.xkcd()\n",
    "plt.xlabel(\"Epochs\")\n",
    "plt.ylabel(\"Loss\")\n",
    "plt.plot( loss  )\n"
   ]
  },
  {
   "cell_type": "code",
   "execution_count": 91,
   "metadata": {},
   "outputs": [
    {
     "data": {
      "text/plain": [
       "[<matplotlib.lines.Line2D at 0x1406b4cd0>]"
      ]
     },
     "execution_count": 91,
     "metadata": {},
     "output_type": "execute_result"
    },
    {
     "data": {
      "image/png": "[encoded data removed]",
      "text/plain": [
       "<Figure size 432x288 with 1 Axes>"
      ]
     },
     "metadata": {
      "needs_background": "light"
     },
     "output_type": "display_data"
    }
   ],
   "source": [
    "plt.xlabel(\"epoch\")\n",
    "plt.ylabel(\"mape\")\n",
    "plt.plot( mape )"
   ]
  },
  {
   "cell_type": "code",
   "execution_count": 92,
   "metadata": {},
   "outputs": [
    {
     "data": {
      "text/plain": [
       "[<matplotlib.lines.Line2D at 0x141fb5fd0>]"
      ]
     },
     "execution_count": 92,
     "metadata": {},
     "output_type": "execute_result"
    },
    {
     "data": {
      "image/png": "[encoded data removed]",
      "text/plain": [
       "<Figure size 432x288 with 1 Axes>"
      ]
     },
     "metadata": {
      "needs_background": "light"
     },
     "output_type": "display_data"
    }
   ],
   "source": [
    "plt.plot( mse)"
   ]
  }
 ],
 "metadata": {
  "kernelspec": {
   "display_name": "Python 3",
   "language": "python",
   "name": "python3"
  },
  "language_info": {
   "codemirror_mode": {
    "name": "ipython",
    "version": 3
   },
   "file_extension": ".py",
   "mimetype": "text/x-python",
   "name": "python",
   "nbconvert_exporter": "python",
   "pygments_lexer": "ipython3",
   "version": "3.7.7"
  },
  "nbpresent": {
   "slides": {},
   "themes": {
    "default": "6815fa09-5727-4fd1-b945-274776a611f2",
    "theme": {}
   }
  }
 },
 "nbformat": 4,
 "nbformat_minor": 2
}
